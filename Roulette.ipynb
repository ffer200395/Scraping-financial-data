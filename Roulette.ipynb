{
  "nbformat": 4,
  "nbformat_minor": 0,
  "metadata": {
    "colab": {
      "provenance": [],
      "include_colab_link": true
    },
    "kernelspec": {
      "name": "python3",
      "display_name": "Python 3"
    }
  },
  "cells": [
    {
      "cell_type": "markdown",
      "metadata": {
        "id": "view-in-github",
        "colab_type": "text"
      },
      "source": [
        "<a href=\"https://colab.research.google.com/github/ffer200395/Scraping-financial-data/blob/main/Roulette.ipynb\" target=\"_parent\"><img src=\"https://colab.research.google.com/assets/colab-badge.svg\" alt=\"Open In Colab\"/></a>"
      ]
    },
    {
      "cell_type": "code",
      "metadata": {
        "id": "lFaLeHVJjIVZ"
      },
      "source": [
        "# To generate random sequences\n",
        "from numpy import random\n",
        "import numpy as np\n",
        "\n",
        "# For data handling\n",
        "import pandas as pd\n",
        "from itertools import groupby\n",
        "\n",
        "from tqdm import tqdm"
      ],
      "execution_count": null,
      "outputs": []
    },
    {
      "cell_type": "markdown",
      "source": [
        "# Function for double and percentage strategy:"
      ],
      "metadata": {
        "id": "JG7y9_snztbY"
      }
    },
    {
      "cell_type": "code",
      "metadata": {
        "id": "pJG6mWZmrG-2"
      },
      "source": [
        "def double_percentage_strategy(runs,color,percentage=None):\n",
        "  # Initially we bet 1€ so money spent in bets is 1 \n",
        "  bet = 1  \n",
        "  # To save data regarding bets and wins\n",
        "  lbet, lwin = [bet], []\n",
        "  # For every spin\n",
        "  for i,run in enumerate(runs):\n",
        "    # If winner color you win double your bet and next bet is 1 else you win 0€ and double your bet\n",
        "    win, bet = (bet*2, 1) if run==color else (0, bet*2)\n",
        "    lwin.append(win)\n",
        "    # Calculate final profit and max bet done\n",
        "    realWin=sum(lwin)-sum(lbet) \n",
        "    #print(lwin, lbet, realWin)\n",
        "    # If we play until a predifined moment (given by percentage) and we already obtained profit\n",
        "    if (percentage!=None) and (i>=int(len(runs)*percentage)) and (realWin>0):\n",
        "      # Exit the game\n",
        "      break \n",
        "    # Save data\n",
        "    if i!=len(runs)-1:\n",
        "      lbet.append(bet)\n",
        "  return realWin,max(lbet)"
      ],
      "execution_count": null,
      "outputs": []
    },
    {
      "cell_type": "markdown",
      "source": [
        "# Examples for double_percentage_strategy:"
      ],
      "metadata": {
        "id": "gHae0tiq1xOK"
      }
    },
    {
      "cell_type": "markdown",
      "source": [
        "In this example we see we bet to 1 and one appears 3 times so final profit is 3€ and maximum amount bet was 1€:"
      ],
      "metadata": {
        "id": "3p1h87kp4hOS"
      }
    },
    {
      "cell_type": "code",
      "source": [
        "# Example always guess the color in all runs (1 for red, 2 for black)\n",
        "double_percentage_strategy([1,1,1,1], 1)"
      ],
      "metadata": {
        "colab": {
          "base_uri": "https://localhost:8080/"
        },
        "id": "K16Uwc1R177c",
        "outputId": "5b1aa26b-d7f6-4ee5-c121-36d76c170d1e"
      },
      "execution_count": null,
      "outputs": [
        {
          "output_type": "execute_result",
          "data": {
            "text/plain": [
              "(4, 1)"
            ]
          },
          "metadata": {},
          "execution_count": 3
        }
      ]
    },
    {
      "cell_type": "code",
      "source": [
        "# Example always lose the color in all runs (1 for red, 2 for black)\n",
        "double_percentage_strategy([0,2,0,2], 1)"
      ],
      "metadata": {
        "colab": {
          "base_uri": "https://localhost:8080/"
        },
        "id": "Iv7E4tba4ziy",
        "outputId": "4977d1c4-3f2c-4b6d-f3e0-fb23d644cd85"
      },
      "execution_count": null,
      "outputs": [
        {
          "output_type": "stream",
          "name": "stdout",
          "text": [
            "[0] [1]\n",
            "[0, 0] [1, 2]\n",
            "[0, 0, 0] [1, 2, 4]\n",
            "[0, 0, 0, 0] [1, 2, 4, 8]\n"
          ]
        },
        {
          "output_type": "execute_result",
          "data": {
            "text/plain": [
              "(-15, 8)"
            ]
          },
          "metadata": {},
          "execution_count": 12
        }
      ]
    },
    {
      "cell_type": "markdown",
      "source": [
        "Since we lost n=4 consecutive times our maximum bet was 8€ (2^(n-1)) and we would have needed in our wallet in our wallet 15€ ((2^n)-1)."
      ],
      "metadata": {
        "id": "HTXi01k92Y6t"
      }
    },
    {
      "cell_type": "code",
      "source": [
        "(2**4)-1"
      ],
      "metadata": {
        "colab": {
          "base_uri": "https://localhost:8080/"
        },
        "id": "iSJo2ZeQ6IV0",
        "outputId": "f5acc333-aa43-496c-a1e8-333931599c66"
      },
      "execution_count": null,
      "outputs": [
        {
          "output_type": "execute_result",
          "data": {
            "text/plain": [
              "15"
            ]
          },
          "metadata": {},
          "execution_count": 15
        }
      ]
    },
    {
      "cell_type": "markdown",
      "source": [
        "We can consider quiting earlier if we already made some profit and have played a certain percentage of the total number of runs the user wants to play (double percentage strategy):"
      ],
      "metadata": {
        "id": "Uj5sqoVf6zO8"
      }
    },
    {
      "cell_type": "code",
      "source": [
        "# Example apply double percentage strategy over a player that plans two play 10 \n",
        "# runs but if he already played 5 and has profit he is willing to quit\n",
        "double_percentage_strategy([0,1,1,1,0,2,1,1,1,1], 1, 0.5)"
      ],
      "metadata": {
        "colab": {
          "base_uri": "https://localhost:8080/"
        },
        "id": "b8-myJYC7M_l",
        "outputId": "b68f06cb-4bf2-43c2-dabb-49982940b906"
      },
      "execution_count": null,
      "outputs": [
        {
          "output_type": "execute_result",
          "data": {
            "text/plain": [
              "(4, 4)"
            ]
          },
          "metadata": {},
          "execution_count": 3
        }
      ]
    },
    {
      "cell_type": "code",
      "source": [
        "# Same sequence of runs whith lower,higher and no percentage\n",
        "print(double_percentage_strategy([0,1,1,1,0,2,1,1,1,1], 1, 0.2))\n",
        "print(double_percentage_strategy([0,1,1,1,0,2,1,1,1,1], 1, 0.8))\n",
        "print(double_percentage_strategy([0,1,1,1,0,2,1,1,1,1], 1))"
      ],
      "metadata": {
        "colab": {
          "base_uri": "https://localhost:8080/"
        },
        "id": "_NrHgCtf75_B",
        "outputId": "5a436bd5-2854-486e-9973-a886a46151a6"
      },
      "execution_count": null,
      "outputs": [
        {
          "output_type": "stream",
          "name": "stdout",
          "text": [
            "(2, 2)\n",
            "(6, 4)\n",
            "(7, 4)\n"
          ]
        }
      ]
    },
    {
      "cell_type": "markdown",
      "source": [
        "# Function for simulations:"
      ],
      "metadata": {
        "id": "ma_dDFp58b1d"
      }
    },
    {
      "cell_type": "code",
      "source": [
        "def simulate(rounds, runs, percentage=None):\n",
        "  # DataFrame to store data\n",
        "  res=pd.DataFrame(columns=['Round_num','WinR','WinB','MaxBetR','MaxBetB'])\n",
        "  # In every experiment data is gathered for both colors\n",
        "  for round in tqdm(range(rounds)):\n",
        "    # Generate a random sequence of 0,1,2 (Zero, Red, Black)\n",
        "    all_runs = [random.choice(np.arange(0,3), p=[0.02702, 0.48649, 0.48649]) for _ in range(runs)]\n",
        "    # Results of applying the strategy over red and blue color\n",
        "    r, b = double_percentage_strategy(all_runs,1,percentage), double_percentage_strategy(all_runs,2,percentage)\n",
        "    # Retrurn generated dataset\n",
        "    res=res.append({'Round_num':round,'WinR':r[0],'WinB':b[0],'MaxBetR':r[1],'MaxBetB':b[1]}, ignore_index=True)\n",
        "  return res"
      ],
      "metadata": {
        "id": "LYW0LeJY8UcB"
      },
      "execution_count": null,
      "outputs": []
    },
    {
      "cell_type": "markdown",
      "source": [
        "We now simulate 10.000 gamblers playing 100 roulette spins applying double strategy:"
      ],
      "metadata": {
        "id": "VxsvMA3Z9HV-"
      }
    },
    {
      "cell_type": "code",
      "source": [
        "# Simulate 10000 experiments of 100 runs\n",
        "df_experiments = simulate(10000,100)"
      ],
      "metadata": {
        "colab": {
          "base_uri": "https://localhost:8080/"
        },
        "id": "L248sxCg9bcs",
        "outputId": "66aa0e35-92ad-434a-ef55-71710640c6e4"
      },
      "execution_count": null,
      "outputs": [
        {
          "output_type": "stream",
          "name": "stderr",
          "text": [
            "100%|██████████| 10000/10000 [00:52<00:00, 191.85it/s]\n"
          ]
        }
      ]
    },
    {
      "cell_type": "code",
      "source": [
        "# Simulate 10000 experiments of 100 runs quiting at 50% if profit\n",
        "df_experiments_pct = simulate(10000,100, 0.5)"
      ],
      "metadata": {
        "colab": {
          "base_uri": "https://localhost:8080/"
        },
        "id": "_zrGq9aV-2kb",
        "outputId": "db942dd8-73a8-4998-861c-360eccb76cf0"
      },
      "execution_count": null,
      "outputs": [
        {
          "output_type": "stream",
          "name": "stderr",
          "text": [
            "100%|██████████| 10000/10000 [00:48<00:00, 205.63it/s]\n"
          ]
        }
      ]
    },
    {
      "cell_type": "code",
      "source": [
        "df_experiments"
      ],
      "metadata": {
        "colab": {
          "base_uri": "https://localhost:8080/",
          "height": 707
        },
        "id": "2AmfWwMv-tLh",
        "outputId": "c9ff3ac2-b810-4689-ba4a-f03552ba32bc"
      },
      "execution_count": null,
      "outputs": [
        {
          "output_type": "execute_result",
          "data": {
            "text/plain": [
              "     Round_num WinR WinB MaxBetR MaxBetB\n",
              "0            0   52   42      32      32\n",
              "1            1   36   56    2048      16\n",
              "2            2   51   43      64     128\n",
              "3            3   58   37      16     128\n",
              "4            4   49   32     128     128\n",
              "...        ...  ...  ...     ...     ...\n",
              "9995      9995   57   39     128     256\n",
              "9996      9996   42   49      16      16\n",
              "9997      9997   49   48      32     256\n",
              "9998      9998   47   47      64      32\n",
              "9999      9999   47   47    1024      32\n",
              "\n",
              "[10000 rows x 5 columns]"
            ],
            "text/html": [
              "\n",
              "  <div id=\"df-ff766967-50e6-4831-8855-1f7b81dedc26\">\n",
              "    <div class=\"colab-df-container\">\n",
              "      <div>\n",
              "<style scoped>\n",
              "    .dataframe tbody tr th:only-of-type {\n",
              "        vertical-align: middle;\n",
              "    }\n",
              "\n",
              "    .dataframe tbody tr th {\n",
              "        vertical-align: top;\n",
              "    }\n",
              "\n",
              "    .dataframe thead th {\n",
              "        text-align: right;\n",
              "    }\n",
              "</style>\n",
              "<table border=\"1\" class=\"dataframe\">\n",
              "  <thead>\n",
              "    <tr style=\"text-align: right;\">\n",
              "      <th></th>\n",
              "      <th>Round_num</th>\n",
              "      <th>WinR</th>\n",
              "      <th>WinB</th>\n",
              "      <th>MaxBetR</th>\n",
              "      <th>MaxBetB</th>\n",
              "    </tr>\n",
              "  </thead>\n",
              "  <tbody>\n",
              "    <tr>\n",
              "      <th>0</th>\n",
              "      <td>0</td>\n",
              "      <td>52</td>\n",
              "      <td>42</td>\n",
              "      <td>32</td>\n",
              "      <td>32</td>\n",
              "    </tr>\n",
              "    <tr>\n",
              "      <th>1</th>\n",
              "      <td>1</td>\n",
              "      <td>36</td>\n",
              "      <td>56</td>\n",
              "      <td>2048</td>\n",
              "      <td>16</td>\n",
              "    </tr>\n",
              "    <tr>\n",
              "      <th>2</th>\n",
              "      <td>2</td>\n",
              "      <td>51</td>\n",
              "      <td>43</td>\n",
              "      <td>64</td>\n",
              "      <td>128</td>\n",
              "    </tr>\n",
              "    <tr>\n",
              "      <th>3</th>\n",
              "      <td>3</td>\n",
              "      <td>58</td>\n",
              "      <td>37</td>\n",
              "      <td>16</td>\n",
              "      <td>128</td>\n",
              "    </tr>\n",
              "    <tr>\n",
              "      <th>4</th>\n",
              "      <td>4</td>\n",
              "      <td>49</td>\n",
              "      <td>32</td>\n",
              "      <td>128</td>\n",
              "      <td>128</td>\n",
              "    </tr>\n",
              "    <tr>\n",
              "      <th>...</th>\n",
              "      <td>...</td>\n",
              "      <td>...</td>\n",
              "      <td>...</td>\n",
              "      <td>...</td>\n",
              "      <td>...</td>\n",
              "    </tr>\n",
              "    <tr>\n",
              "      <th>9995</th>\n",
              "      <td>9995</td>\n",
              "      <td>57</td>\n",
              "      <td>39</td>\n",
              "      <td>128</td>\n",
              "      <td>256</td>\n",
              "    </tr>\n",
              "    <tr>\n",
              "      <th>9996</th>\n",
              "      <td>9996</td>\n",
              "      <td>42</td>\n",
              "      <td>49</td>\n",
              "      <td>16</td>\n",
              "      <td>16</td>\n",
              "    </tr>\n",
              "    <tr>\n",
              "      <th>9997</th>\n",
              "      <td>9997</td>\n",
              "      <td>49</td>\n",
              "      <td>48</td>\n",
              "      <td>32</td>\n",
              "      <td>256</td>\n",
              "    </tr>\n",
              "    <tr>\n",
              "      <th>9998</th>\n",
              "      <td>9998</td>\n",
              "      <td>47</td>\n",
              "      <td>47</td>\n",
              "      <td>64</td>\n",
              "      <td>32</td>\n",
              "    </tr>\n",
              "    <tr>\n",
              "      <th>9999</th>\n",
              "      <td>9999</td>\n",
              "      <td>47</td>\n",
              "      <td>47</td>\n",
              "      <td>1024</td>\n",
              "      <td>32</td>\n",
              "    </tr>\n",
              "  </tbody>\n",
              "</table>\n",
              "<p>10000 rows × 5 columns</p>\n",
              "</div>\n",
              "      <button class=\"colab-df-convert\" onclick=\"convertToInteractive('df-ff766967-50e6-4831-8855-1f7b81dedc26')\"\n",
              "              title=\"Convert this dataframe to an interactive table.\"\n",
              "              style=\"display:none;\">\n",
              "        \n",
              "  <svg xmlns=\"http://www.w3.org/2000/svg\" height=\"24px\"viewBox=\"0 0 24 24\"\n",
              "       width=\"24px\">\n",
              "    <path d=\"M0 0h24v24H0V0z\" fill=\"none\"/>\n",
              "    <path d=\"M18.56 5.44l.94 2.06.94-2.06 2.06-.94-2.06-.94-.94-2.06-.94 2.06-2.06.94zm-11 1L8.5 8.5l.94-2.06 2.06-.94-2.06-.94L8.5 2.5l-.94 2.06-2.06.94zm10 10l.94 2.06.94-2.06 2.06-.94-2.06-.94-.94-2.06-.94 2.06-2.06.94z\"/><path d=\"M17.41 7.96l-1.37-1.37c-.4-.4-.92-.59-1.43-.59-.52 0-1.04.2-1.43.59L10.3 9.45l-7.72 7.72c-.78.78-.78 2.05 0 2.83L4 21.41c.39.39.9.59 1.41.59.51 0 1.02-.2 1.41-.59l7.78-7.78 2.81-2.81c.8-.78.8-2.07 0-2.86zM5.41 20L4 18.59l7.72-7.72 1.47 1.35L5.41 20z\"/>\n",
              "  </svg>\n",
              "      </button>\n",
              "      \n",
              "  <style>\n",
              "    .colab-df-container {\n",
              "      display:flex;\n",
              "      flex-wrap:wrap;\n",
              "      gap: 12px;\n",
              "    }\n",
              "\n",
              "    .colab-df-convert {\n",
              "      background-color: #E8F0FE;\n",
              "      border: none;\n",
              "      border-radius: 50%;\n",
              "      cursor: pointer;\n",
              "      display: none;\n",
              "      fill: #1967D2;\n",
              "      height: 32px;\n",
              "      padding: 0 0 0 0;\n",
              "      width: 32px;\n",
              "    }\n",
              "\n",
              "    .colab-df-convert:hover {\n",
              "      background-color: #E2EBFA;\n",
              "      box-shadow: 0px 1px 2px rgba(60, 64, 67, 0.3), 0px 1px 3px 1px rgba(60, 64, 67, 0.15);\n",
              "      fill: #174EA6;\n",
              "    }\n",
              "\n",
              "    [theme=dark] .colab-df-convert {\n",
              "      background-color: #3B4455;\n",
              "      fill: #D2E3FC;\n",
              "    }\n",
              "\n",
              "    [theme=dark] .colab-df-convert:hover {\n",
              "      background-color: #434B5C;\n",
              "      box-shadow: 0px 1px 3px 1px rgba(0, 0, 0, 0.15);\n",
              "      filter: drop-shadow(0px 1px 2px rgba(0, 0, 0, 0.3));\n",
              "      fill: #FFFFFF;\n",
              "    }\n",
              "  </style>\n",
              "\n",
              "      <script>\n",
              "        const buttonEl =\n",
              "          document.querySelector('#df-ff766967-50e6-4831-8855-1f7b81dedc26 button.colab-df-convert');\n",
              "        buttonEl.style.display =\n",
              "          google.colab.kernel.accessAllowed ? 'block' : 'none';\n",
              "\n",
              "        async function convertToInteractive(key) {\n",
              "          const element = document.querySelector('#df-ff766967-50e6-4831-8855-1f7b81dedc26');\n",
              "          const dataTable =\n",
              "            await google.colab.kernel.invokeFunction('convertToInteractive',\n",
              "                                                     [key], {});\n",
              "          if (!dataTable) return;\n",
              "\n",
              "          const docLinkHtml = 'Like what you see? Visit the ' +\n",
              "            '<a target=\"_blank\" href=https://colab.research.google.com/notebooks/data_table.ipynb>data table notebook</a>'\n",
              "            + ' to learn more about interactive tables.';\n",
              "          element.innerHTML = '';\n",
              "          dataTable['output_type'] = 'display_data';\n",
              "          await google.colab.output.renderOutput(dataTable, element);\n",
              "          const docLink = document.createElement('div');\n",
              "          docLink.innerHTML = docLinkHtml;\n",
              "          element.appendChild(docLink);\n",
              "        }\n",
              "      </script>\n",
              "    </div>\n",
              "  </div>\n",
              "  "
            ]
          },
          "metadata": {},
          "execution_count": 25
        },
        {
          "output_type": "stream",
          "name": "stdout",
          "text": [
            "Error: Runtime no longer has a reference to this dataframe, please re-run this cell and try again.\n"
          ]
        }
      ]
    },
    {
      "cell_type": "code",
      "source": [
        "df_experiments_pct"
      ],
      "metadata": {
        "colab": {
          "base_uri": "https://localhost:8080/",
          "height": 655
        },
        "id": "skPI8pi3_ZUn",
        "outputId": "21bfef4c-7c2d-4dbb-8376-1b04549263b3"
      },
      "execution_count": null,
      "outputs": [
        {
          "output_type": "execute_result",
          "data": {
            "text/plain": [
              "     Round_num WinR WinB MaxBetR MaxBetB\n",
              "0            0   30   13       8      64\n",
              "1            1   21   26      16       8\n",
              "2            2   23   26      32     256\n",
              "3            3   24   24      64      16\n",
              "4            4   24   24      32      32\n",
              "...        ...  ...  ...     ...     ...\n",
              "9995      9995   23   27      64      32\n",
              "9996      9996    4   30      32      16\n",
              "9997      9997   16   28      16      16\n",
              "9998      9998   28   20       8     256\n",
              "9999      9999   23   18      32      16\n",
              "\n",
              "[10000 rows x 5 columns]"
            ],
            "text/html": [
              "\n",
              "  <div id=\"df-efdd42b5-266c-4f3d-b605-d56e3ca028ba\">\n",
              "    <div class=\"colab-df-container\">\n",
              "      <div>\n",
              "<style scoped>\n",
              "    .dataframe tbody tr th:only-of-type {\n",
              "        vertical-align: middle;\n",
              "    }\n",
              "\n",
              "    .dataframe tbody tr th {\n",
              "        vertical-align: top;\n",
              "    }\n",
              "\n",
              "    .dataframe thead th {\n",
              "        text-align: right;\n",
              "    }\n",
              "</style>\n",
              "<table border=\"1\" class=\"dataframe\">\n",
              "  <thead>\n",
              "    <tr style=\"text-align: right;\">\n",
              "      <th></th>\n",
              "      <th>Round_num</th>\n",
              "      <th>WinR</th>\n",
              "      <th>WinB</th>\n",
              "      <th>MaxBetR</th>\n",
              "      <th>MaxBetB</th>\n",
              "    </tr>\n",
              "  </thead>\n",
              "  <tbody>\n",
              "    <tr>\n",
              "      <th>0</th>\n",
              "      <td>0</td>\n",
              "      <td>30</td>\n",
              "      <td>13</td>\n",
              "      <td>8</td>\n",
              "      <td>64</td>\n",
              "    </tr>\n",
              "    <tr>\n",
              "      <th>1</th>\n",
              "      <td>1</td>\n",
              "      <td>21</td>\n",
              "      <td>26</td>\n",
              "      <td>16</td>\n",
              "      <td>8</td>\n",
              "    </tr>\n",
              "    <tr>\n",
              "      <th>2</th>\n",
              "      <td>2</td>\n",
              "      <td>23</td>\n",
              "      <td>26</td>\n",
              "      <td>32</td>\n",
              "      <td>256</td>\n",
              "    </tr>\n",
              "    <tr>\n",
              "      <th>3</th>\n",
              "      <td>3</td>\n",
              "      <td>24</td>\n",
              "      <td>24</td>\n",
              "      <td>64</td>\n",
              "      <td>16</td>\n",
              "    </tr>\n",
              "    <tr>\n",
              "      <th>4</th>\n",
              "      <td>4</td>\n",
              "      <td>24</td>\n",
              "      <td>24</td>\n",
              "      <td>32</td>\n",
              "      <td>32</td>\n",
              "    </tr>\n",
              "    <tr>\n",
              "      <th>...</th>\n",
              "      <td>...</td>\n",
              "      <td>...</td>\n",
              "      <td>...</td>\n",
              "      <td>...</td>\n",
              "      <td>...</td>\n",
              "    </tr>\n",
              "    <tr>\n",
              "      <th>9995</th>\n",
              "      <td>9995</td>\n",
              "      <td>23</td>\n",
              "      <td>27</td>\n",
              "      <td>64</td>\n",
              "      <td>32</td>\n",
              "    </tr>\n",
              "    <tr>\n",
              "      <th>9996</th>\n",
              "      <td>9996</td>\n",
              "      <td>4</td>\n",
              "      <td>30</td>\n",
              "      <td>32</td>\n",
              "      <td>16</td>\n",
              "    </tr>\n",
              "    <tr>\n",
              "      <th>9997</th>\n",
              "      <td>9997</td>\n",
              "      <td>16</td>\n",
              "      <td>28</td>\n",
              "      <td>16</td>\n",
              "      <td>16</td>\n",
              "    </tr>\n",
              "    <tr>\n",
              "      <th>9998</th>\n",
              "      <td>9998</td>\n",
              "      <td>28</td>\n",
              "      <td>20</td>\n",
              "      <td>8</td>\n",
              "      <td>256</td>\n",
              "    </tr>\n",
              "    <tr>\n",
              "      <th>9999</th>\n",
              "      <td>9999</td>\n",
              "      <td>23</td>\n",
              "      <td>18</td>\n",
              "      <td>32</td>\n",
              "      <td>16</td>\n",
              "    </tr>\n",
              "  </tbody>\n",
              "</table>\n",
              "<p>10000 rows × 5 columns</p>\n",
              "</div>\n",
              "      <button class=\"colab-df-convert\" onclick=\"convertToInteractive('df-efdd42b5-266c-4f3d-b605-d56e3ca028ba')\"\n",
              "              title=\"Convert this dataframe to an interactive table.\"\n",
              "              style=\"display:none;\">\n",
              "        \n",
              "  <svg xmlns=\"http://www.w3.org/2000/svg\" height=\"24px\"viewBox=\"0 0 24 24\"\n",
              "       width=\"24px\">\n",
              "    <path d=\"M0 0h24v24H0V0z\" fill=\"none\"/>\n",
              "    <path d=\"M18.56 5.44l.94 2.06.94-2.06 2.06-.94-2.06-.94-.94-2.06-.94 2.06-2.06.94zm-11 1L8.5 8.5l.94-2.06 2.06-.94-2.06-.94L8.5 2.5l-.94 2.06-2.06.94zm10 10l.94 2.06.94-2.06 2.06-.94-2.06-.94-.94-2.06-.94 2.06-2.06.94z\"/><path d=\"M17.41 7.96l-1.37-1.37c-.4-.4-.92-.59-1.43-.59-.52 0-1.04.2-1.43.59L10.3 9.45l-7.72 7.72c-.78.78-.78 2.05 0 2.83L4 21.41c.39.39.9.59 1.41.59.51 0 1.02-.2 1.41-.59l7.78-7.78 2.81-2.81c.8-.78.8-2.07 0-2.86zM5.41 20L4 18.59l7.72-7.72 1.47 1.35L5.41 20z\"/>\n",
              "  </svg>\n",
              "      </button>\n",
              "      \n",
              "  <style>\n",
              "    .colab-df-container {\n",
              "      display:flex;\n",
              "      flex-wrap:wrap;\n",
              "      gap: 12px;\n",
              "    }\n",
              "\n",
              "    .colab-df-convert {\n",
              "      background-color: #E8F0FE;\n",
              "      border: none;\n",
              "      border-radius: 50%;\n",
              "      cursor: pointer;\n",
              "      display: none;\n",
              "      fill: #1967D2;\n",
              "      height: 32px;\n",
              "      padding: 0 0 0 0;\n",
              "      width: 32px;\n",
              "    }\n",
              "\n",
              "    .colab-df-convert:hover {\n",
              "      background-color: #E2EBFA;\n",
              "      box-shadow: 0px 1px 2px rgba(60, 64, 67, 0.3), 0px 1px 3px 1px rgba(60, 64, 67, 0.15);\n",
              "      fill: #174EA6;\n",
              "    }\n",
              "\n",
              "    [theme=dark] .colab-df-convert {\n",
              "      background-color: #3B4455;\n",
              "      fill: #D2E3FC;\n",
              "    }\n",
              "\n",
              "    [theme=dark] .colab-df-convert:hover {\n",
              "      background-color: #434B5C;\n",
              "      box-shadow: 0px 1px 3px 1px rgba(0, 0, 0, 0.15);\n",
              "      filter: drop-shadow(0px 1px 2px rgba(0, 0, 0, 0.3));\n",
              "      fill: #FFFFFF;\n",
              "    }\n",
              "  </style>\n",
              "\n",
              "      <script>\n",
              "        const buttonEl =\n",
              "          document.querySelector('#df-efdd42b5-266c-4f3d-b605-d56e3ca028ba button.colab-df-convert');\n",
              "        buttonEl.style.display =\n",
              "          google.colab.kernel.accessAllowed ? 'block' : 'none';\n",
              "\n",
              "        async function convertToInteractive(key) {\n",
              "          const element = document.querySelector('#df-efdd42b5-266c-4f3d-b605-d56e3ca028ba');\n",
              "          const dataTable =\n",
              "            await google.colab.kernel.invokeFunction('convertToInteractive',\n",
              "                                                     [key], {});\n",
              "          if (!dataTable) return;\n",
              "\n",
              "          const docLinkHtml = 'Like what you see? Visit the ' +\n",
              "            '<a target=\"_blank\" href=https://colab.research.google.com/notebooks/data_table.ipynb>data table notebook</a>'\n",
              "            + ' to learn more about interactive tables.';\n",
              "          element.innerHTML = '';\n",
              "          dataTable['output_type'] = 'display_data';\n",
              "          await google.colab.output.renderOutput(dataTable, element);\n",
              "          const docLink = document.createElement('div');\n",
              "          docLink.innerHTML = docLinkHtml;\n",
              "          element.appendChild(docLink);\n",
              "        }\n",
              "      </script>\n",
              "    </div>\n",
              "  </div>\n",
              "  "
            ]
          },
          "metadata": {},
          "execution_count": 26
        }
      ]
    },
    {
      "cell_type": "markdown",
      "source": [
        "In above tables (ordered from highest to lowest amount bet in Black) we see numbers like 131072 or 2097152 as the money one have to bet considering the color you are betting against appears consecutively in your runs. So how often does it usually happen? Lets consider a gambler with 127€ in his/her wallet, that gambler would be able to survive just 6 consecutive spins of the roulette. We now observe how many rounds (of length 100) of a total of 10,000 showed 6 consecutive colors or more:"
      ],
      "metadata": {
        "id": "1Ublbuhj_lT6"
      }
    },
    {
      "cell_type": "code",
      "source": [
        "(2**7)-1"
      ],
      "metadata": {
        "colab": {
          "base_uri": "https://localhost:8080/"
        },
        "id": "ctKqDptPAsg5",
        "outputId": "4a2017a0-667b-4aba-f6e9-001703524aed"
      },
      "execution_count": null,
      "outputs": [
        {
          "output_type": "execute_result",
          "data": {
            "text/plain": [
              "127"
            ]
          },
          "metadata": {},
          "execution_count": 30
        }
      ]
    },
    {
      "cell_type": "code",
      "source": [
        "def count_consecutives(n_exp,max_num, bet_against):\n",
        "  cont = 0\n",
        "  for i in tqdm(range(n_exp)):\n",
        "    if (i > 10):\n",
        "      break\n",
        "    ls_runs = [random.choice(np.arange(0,3), p=[0.02702, 0.48649, 0.48649]) for _ in range(100)]\n",
        "    cont_seqs = [[k,len(list(v))] for k,v in groupby(ls_runs)]\n",
        "    cont_seqs = [x for x in cont_seqs if x[0]!=bet_against]\n",
        "    print(cont_seqs)\n",
        "    for x in cont_seqs:\n",
        "      if x[1]>max_num:\n",
        "        cont+=1\n",
        "        break\n",
        "  return (cont/n_exp)*100, cont"
      ],
      "metadata": {
        "id": "74WuDelxBz4w"
      },
      "execution_count": null,
      "outputs": []
    },
    {
      "cell_type": "code",
      "source": [
        "# 10 thousand gamblers betting to 2 so we count how many rounds show consecutive series of ones\n",
        "count_consecutives(10000,12,1)"
      ],
      "metadata": {
        "colab": {
          "base_uri": "https://localhost:8080/"
        },
        "id": "3vyIIVHqZNmE",
        "outputId": "f4873f82-759c-4d31-8ee0-cd2d9c2f98d2"
      },
      "execution_count": null,
      "outputs": [
        {
          "output_type": "stream",
          "name": "stderr",
          "text": [
            "  0%|          | 11/10000 [00:00<00:32, 310.19it/s]"
          ]
        },
        {
          "output_type": "stream",
          "name": "stdout",
          "text": [
            "[[0, 1], [2, 2], [2, 1], [2, 1], [2, 2], [2, 2], [2, 1], [2, 1], [2, 1], [2, 1], [2, 2], [2, 2], [2, 10], [0, 1], [2, 2], [2, 1], [2, 2], [0, 1], [2, 4], [2, 1], [2, 1], [2, 1], [0, 1], [2, 1], [2, 2], [2, 4], [2, 2], [2, 1], [2, 1]]\n",
            "[[2, 1], [2, 1], [2, 2], [2, 3], [2, 1], [2, 1], [0, 1], [2, 1], [2, 1], [2, 1], [2, 2], [2, 2], [2, 2], [2, 1], [2, 6], [2, 1], [2, 5], [2, 2], [2, 1], [0, 1], [2, 1], [0, 1], [2, 1], [2, 2], [2, 1], [2, 1], [2, 3], [2, 1], [2, 2]]\n",
            "[[2, 2], [2, 1], [2, 3], [2, 1], [2, 1], [2, 3], [2, 2], [2, 2], [2, 5], [2, 3], [2, 1], [2, 2], [2, 1], [2, 1], [2, 4], [2, 6], [2, 3], [2, 1], [2, 3], [2, 1], [2, 2], [2, 1], [2, 3], [2, 2], [2, 2]]\n",
            "[[2, 4], [2, 2], [2, 1], [2, 8], [2, 1], [2, 5], [0, 1], [2, 9], [2, 2], [2, 1], [2, 7], [2, 1], [2, 2], [0, 1], [2, 1], [2, 1], [2, 1], [2, 1], [2, 4], [2, 1], [2, 1], [2, 1], [2, 1]]\n",
            "[[2, 4], [2, 1], [2, 2], [2, 2], [2, 2], [2, 2], [2, 1], [2, 2], [2, 2], [2, 2], [2, 1], [2, 3], [2, 1], [2, 3], [2, 1], [2, 3], [2, 4], [2, 2], [2, 2], [2, 1], [2, 1], [2, 1], [2, 3], [2, 1], [2, 1], [2, 3]]\n",
            "[[2, 1], [2, 1], [2, 1], [2, 2], [2, 3], [2, 1], [2, 1], [2, 1], [2, 1], [2, 2], [2, 2], [2, 1], [2, 2], [2, 1], [2, 1], [0, 1], [2, 1], [2, 1], [0, 1], [2, 1], [0, 1], [2, 8], [2, 1], [2, 1], [2, 3], [2, 1], [2, 1], [2, 8], [2, 1], [2, 5]]\n",
            "[[2, 1], [2, 1], [2, 1], [2, 2], [2, 3], [2, 3], [2, 2], [2, 1], [2, 1], [2, 1], [2, 2], [2, 2], [2, 1], [2, 2], [2, 1], [2, 4], [2, 1], [2, 3], [2, 2], [0, 1], [2, 1], [2, 1], [2, 1], [2, 1], [2, 1], [2, 1], [2, 2]]\n",
            "[[2, 3], [0, 1], [2, 8], [2, 2], [2, 2], [2, 2], [2, 2], [2, 7], [2, 1], [2, 3], [0, 1], [2, 2], [2, 3], [2, 1], [2, 2], [2, 5], [0, 1], [2, 3], [2, 1], [2, 1], [2, 5], [2, 3]]\n",
            "[[2, 4], [2, 3], [2, 1], [2, 1], [2, 1], [2, 2], [2, 1], [2, 1], [2, 1], [2, 1], [2, 2], [0, 1], [2, 1], [2, 2], [2, 2], [2, 1], [0, 1], [2, 5], [2, 4], [2, 2], [0, 1], [2, 2], [2, 1], [2, 1], [2, 2], [2, 2], [2, 1], [2, 2], [2, 2], [2, 1]]\n",
            "[[2, 2], [2, 1], [2, 1], [2, 1], [2, 1], [2, 1], [2, 1], [2, 1], [2, 2], [2, 1], [0, 1], [2, 1], [2, 1], [2, 5], [2, 2], [2, 3], [0, 1], [2, 2], [2, 1], [2, 2], [2, 2], [2, 1], [2, 1], [2, 2], [2, 4], [2, 1], [2, 4], [2, 1], [2, 1], [0, 1], [2, 3], [2, 1]]\n",
            "[[2, 3], [2, 1], [2, 1], [2, 1], [2, 1], [2, 2], [0, 1], [2, 2], [0, 1], [2, 1], [2, 2], [0, 1], [2, 2], [2, 7], [2, 6], [2, 1], [2, 3], [2, 2], [2, 5], [2, 3], [2, 2], [2, 2], [2, 1], [2, 1], [0, 1], [2, 1], [2, 2], [2, 1], [2, 2]]\n"
          ]
        },
        {
          "output_type": "stream",
          "name": "stderr",
          "text": [
            "\n"
          ]
        },
        {
          "output_type": "execute_result",
          "data": {
            "text/plain": [
              "(0.0, 0)"
            ]
          },
          "metadata": {},
          "execution_count": 6
        }
      ]
    },
    {
      "cell_type": "markdown",
      "source": [
        "27.59% of those 10.000 rounds showed to have at least one sequence of ones of a length more than 6."
      ],
      "metadata": {
        "id": "Eepw8GueDGjm"
      }
    },
    {
      "cell_type": "markdown",
      "source": [
        "# Others:"
      ],
      "metadata": {
        "id": "1M9a2a8-DnT3"
      }
    },
    {
      "cell_type": "code",
      "source": [
        "# Percentage of winner rounds for both colors and spent less or equal than 64€ for a player with 127€ in wallet \n",
        "len(df_experiments[(df_experiments['WinR']>0)&(df_experiments['WinB']>0)&((df_experiments['MaxBetR']<=64)&(df_experiments['MaxBetB']<=64))])/len(df_experiments)*100"
      ],
      "metadata": {
        "colab": {
          "base_uri": "https://localhost:8080/"
        },
        "id": "dlC9GLgCDvlV",
        "outputId": "17bce72a-b1f1-4901-de5d-9eab50c6556b"
      },
      "execution_count": null,
      "outputs": [
        {
          "output_type": "execute_result",
          "data": {
            "text/plain": [
              "39.39"
            ]
          },
          "metadata": {},
          "execution_count": 31
        }
      ]
    },
    {
      "cell_type": "code",
      "source": [
        "# Same question but for double percentage strategy\n",
        "len(df_experiments_pct[(df_experiments_pct['WinR']>0)&(df_experiments_pct['WinB']>0)&((df_experiments_pct['MaxBetR']<=64)&(df_experiments_pct['MaxBetB']<=64))])/len(df_experiments)*100"
      ],
      "metadata": {
        "colab": {
          "base_uri": "https://localhost:8080/"
        },
        "id": "5ZkvH2WbDvny",
        "outputId": "98b0d365-33d2-4e61-f968-b5f0108a8181"
      },
      "execution_count": null,
      "outputs": [
        {
          "output_type": "execute_result",
          "data": {
            "text/plain": [
              "62.480000000000004"
            ]
          },
          "metadata": {},
          "execution_count": 32
        }
      ]
    },
    {
      "cell_type": "markdown",
      "source": [
        "Looks like you double your chance of winning if you quit earlier. Being more realistic if we are willing to spend 127€ we would want to make at least a 20% profit, lets see for both strategies how many rounds obtained at least 20% in profit:"
      ],
      "metadata": {
        "id": "08J_BVofE_Qu"
      }
    },
    {
      "cell_type": "code",
      "source": [
        "127*0.2"
      ],
      "metadata": {
        "colab": {
          "base_uri": "https://localhost:8080/"
        },
        "id": "n7djWME8F2Ny",
        "outputId": "12044dfb-eb1e-4dd1-8d2b-3f2bd3d3e5d1"
      },
      "execution_count": null,
      "outputs": [
        {
          "output_type": "execute_result",
          "data": {
            "text/plain": [
              "25.400000000000002"
            ]
          },
          "metadata": {},
          "execution_count": 53
        }
      ]
    },
    {
      "cell_type": "code",
      "source": [
        "len(df_experiments[(df_experiments['WinR']>=25)&(df_experiments['WinB']>=25)&((df_experiments['MaxBetR']<=64)&(df_experiments['MaxBetB']<=64))])/len(df_experiments)*100"
      ],
      "metadata": {
        "colab": {
          "base_uri": "https://localhost:8080/"
        },
        "id": "vg9zHgthDvqi",
        "outputId": "86a17554-9d37-40d3-aa22-641aba44dbc6"
      },
      "execution_count": null,
      "outputs": [
        {
          "output_type": "execute_result",
          "data": {
            "text/plain": [
              "37.13"
            ]
          },
          "metadata": {},
          "execution_count": 8
        }
      ]
    },
    {
      "cell_type": "code",
      "source": [
        "len(df_experiments_pct[(df_experiments_pct['WinR']>=25)&(df_experiments_pct['WinB']>=25)&((df_experiments_pct['MaxBetR']<=64)&(df_experiments_pct['MaxBetB']<=64))])/len(df_experiments_pct)*100"
      ],
      "metadata": {
        "colab": {
          "base_uri": "https://localhost:8080/"
        },
        "id": "Pk-ZKMfbDvtP",
        "outputId": "742e9797-5d01-4dc0-8e13-3b5e21c38882"
      },
      "execution_count": null,
      "outputs": [
        {
          "output_type": "execute_result",
          "data": {
            "text/plain": [
              "1.46"
            ]
          },
          "metadata": {},
          "execution_count": 35
        }
      ]
    },
    {
      "cell_type": "code",
      "source": [
        "# Number of winner rounds for both colors and spent less than 64€ for a player with 127€ in wallet \n",
        "df_experiments[(df_experiments['WinR']>=25)&(df_experiments['WinB']>=25)&((df_experiments['MaxBetR']<64)&(df_experiments['MaxBetB']<64))]"
      ],
      "metadata": {
        "colab": {
          "base_uri": "https://localhost:8080/",
          "height": 424
        },
        "id": "ksmSUAxEeHGr",
        "outputId": "79b9ecdd-6795-4f87-9e97-f75f92b64378"
      },
      "execution_count": null,
      "outputs": [
        {
          "output_type": "execute_result",
          "data": {
            "text/plain": [
              "     Round_num WinR WinB MaxBetR MaxBetB\n",
              "5            5   47   44      32      32\n",
              "6            6   52   46      32      32\n",
              "9            9   46   51      16      32\n",
              "30          30   43   53      32      32\n",
              "36          36   44   53      32      16\n",
              "...        ...  ...  ...     ...     ...\n",
              "9976      9976   52   31      16      16\n",
              "9988      9988   50   48      32      32\n",
              "9990      9990   52   44      16      32\n",
              "9993      9993   55   43      16      16\n",
              "9996      9996   56   35      32      32\n",
              "\n",
              "[1458 rows x 5 columns]"
            ],
            "text/html": [
              "\n",
              "  <div id=\"df-d9bf09ea-9f9e-4812-827f-8fcb5f62ec44\">\n",
              "    <div class=\"colab-df-container\">\n",
              "      <div>\n",
              "<style scoped>\n",
              "    .dataframe tbody tr th:only-of-type {\n",
              "        vertical-align: middle;\n",
              "    }\n",
              "\n",
              "    .dataframe tbody tr th {\n",
              "        vertical-align: top;\n",
              "    }\n",
              "\n",
              "    .dataframe thead th {\n",
              "        text-align: right;\n",
              "    }\n",
              "</style>\n",
              "<table border=\"1\" class=\"dataframe\">\n",
              "  <thead>\n",
              "    <tr style=\"text-align: right;\">\n",
              "      <th></th>\n",
              "      <th>Round_num</th>\n",
              "      <th>WinR</th>\n",
              "      <th>WinB</th>\n",
              "      <th>MaxBetR</th>\n",
              "      <th>MaxBetB</th>\n",
              "    </tr>\n",
              "  </thead>\n",
              "  <tbody>\n",
              "    <tr>\n",
              "      <th>5</th>\n",
              "      <td>5</td>\n",
              "      <td>47</td>\n",
              "      <td>44</td>\n",
              "      <td>32</td>\n",
              "      <td>32</td>\n",
              "    </tr>\n",
              "    <tr>\n",
              "      <th>6</th>\n",
              "      <td>6</td>\n",
              "      <td>52</td>\n",
              "      <td>46</td>\n",
              "      <td>32</td>\n",
              "      <td>32</td>\n",
              "    </tr>\n",
              "    <tr>\n",
              "      <th>9</th>\n",
              "      <td>9</td>\n",
              "      <td>46</td>\n",
              "      <td>51</td>\n",
              "      <td>16</td>\n",
              "      <td>32</td>\n",
              "    </tr>\n",
              "    <tr>\n",
              "      <th>30</th>\n",
              "      <td>30</td>\n",
              "      <td>43</td>\n",
              "      <td>53</td>\n",
              "      <td>32</td>\n",
              "      <td>32</td>\n",
              "    </tr>\n",
              "    <tr>\n",
              "      <th>36</th>\n",
              "      <td>36</td>\n",
              "      <td>44</td>\n",
              "      <td>53</td>\n",
              "      <td>32</td>\n",
              "      <td>16</td>\n",
              "    </tr>\n",
              "    <tr>\n",
              "      <th>...</th>\n",
              "      <td>...</td>\n",
              "      <td>...</td>\n",
              "      <td>...</td>\n",
              "      <td>...</td>\n",
              "      <td>...</td>\n",
              "    </tr>\n",
              "    <tr>\n",
              "      <th>9976</th>\n",
              "      <td>9976</td>\n",
              "      <td>52</td>\n",
              "      <td>31</td>\n",
              "      <td>16</td>\n",
              "      <td>16</td>\n",
              "    </tr>\n",
              "    <tr>\n",
              "      <th>9988</th>\n",
              "      <td>9988</td>\n",
              "      <td>50</td>\n",
              "      <td>48</td>\n",
              "      <td>32</td>\n",
              "      <td>32</td>\n",
              "    </tr>\n",
              "    <tr>\n",
              "      <th>9990</th>\n",
              "      <td>9990</td>\n",
              "      <td>52</td>\n",
              "      <td>44</td>\n",
              "      <td>16</td>\n",
              "      <td>32</td>\n",
              "    </tr>\n",
              "    <tr>\n",
              "      <th>9993</th>\n",
              "      <td>9993</td>\n",
              "      <td>55</td>\n",
              "      <td>43</td>\n",
              "      <td>16</td>\n",
              "      <td>16</td>\n",
              "    </tr>\n",
              "    <tr>\n",
              "      <th>9996</th>\n",
              "      <td>9996</td>\n",
              "      <td>56</td>\n",
              "      <td>35</td>\n",
              "      <td>32</td>\n",
              "      <td>32</td>\n",
              "    </tr>\n",
              "  </tbody>\n",
              "</table>\n",
              "<p>1458 rows × 5 columns</p>\n",
              "</div>\n",
              "      <button class=\"colab-df-convert\" onclick=\"convertToInteractive('df-d9bf09ea-9f9e-4812-827f-8fcb5f62ec44')\"\n",
              "              title=\"Convert this dataframe to an interactive table.\"\n",
              "              style=\"display:none;\">\n",
              "        \n",
              "  <svg xmlns=\"http://www.w3.org/2000/svg\" height=\"24px\"viewBox=\"0 0 24 24\"\n",
              "       width=\"24px\">\n",
              "    <path d=\"M0 0h24v24H0V0z\" fill=\"none\"/>\n",
              "    <path d=\"M18.56 5.44l.94 2.06.94-2.06 2.06-.94-2.06-.94-.94-2.06-.94 2.06-2.06.94zm-11 1L8.5 8.5l.94-2.06 2.06-.94-2.06-.94L8.5 2.5l-.94 2.06-2.06.94zm10 10l.94 2.06.94-2.06 2.06-.94-2.06-.94-.94-2.06-.94 2.06-2.06.94z\"/><path d=\"M17.41 7.96l-1.37-1.37c-.4-.4-.92-.59-1.43-.59-.52 0-1.04.2-1.43.59L10.3 9.45l-7.72 7.72c-.78.78-.78 2.05 0 2.83L4 21.41c.39.39.9.59 1.41.59.51 0 1.02-.2 1.41-.59l7.78-7.78 2.81-2.81c.8-.78.8-2.07 0-2.86zM5.41 20L4 18.59l7.72-7.72 1.47 1.35L5.41 20z\"/>\n",
              "  </svg>\n",
              "      </button>\n",
              "      \n",
              "  <style>\n",
              "    .colab-df-container {\n",
              "      display:flex;\n",
              "      flex-wrap:wrap;\n",
              "      gap: 12px;\n",
              "    }\n",
              "\n",
              "    .colab-df-convert {\n",
              "      background-color: #E8F0FE;\n",
              "      border: none;\n",
              "      border-radius: 50%;\n",
              "      cursor: pointer;\n",
              "      display: none;\n",
              "      fill: #1967D2;\n",
              "      height: 32px;\n",
              "      padding: 0 0 0 0;\n",
              "      width: 32px;\n",
              "    }\n",
              "\n",
              "    .colab-df-convert:hover {\n",
              "      background-color: #E2EBFA;\n",
              "      box-shadow: 0px 1px 2px rgba(60, 64, 67, 0.3), 0px 1px 3px 1px rgba(60, 64, 67, 0.15);\n",
              "      fill: #174EA6;\n",
              "    }\n",
              "\n",
              "    [theme=dark] .colab-df-convert {\n",
              "      background-color: #3B4455;\n",
              "      fill: #D2E3FC;\n",
              "    }\n",
              "\n",
              "    [theme=dark] .colab-df-convert:hover {\n",
              "      background-color: #434B5C;\n",
              "      box-shadow: 0px 1px 3px 1px rgba(0, 0, 0, 0.15);\n",
              "      filter: drop-shadow(0px 1px 2px rgba(0, 0, 0, 0.3));\n",
              "      fill: #FFFFFF;\n",
              "    }\n",
              "  </style>\n",
              "\n",
              "      <script>\n",
              "        const buttonEl =\n",
              "          document.querySelector('#df-d9bf09ea-9f9e-4812-827f-8fcb5f62ec44 button.colab-df-convert');\n",
              "        buttonEl.style.display =\n",
              "          google.colab.kernel.accessAllowed ? 'block' : 'none';\n",
              "\n",
              "        async function convertToInteractive(key) {\n",
              "          const element = document.querySelector('#df-d9bf09ea-9f9e-4812-827f-8fcb5f62ec44');\n",
              "          const dataTable =\n",
              "            await google.colab.kernel.invokeFunction('convertToInteractive',\n",
              "                                                     [key], {});\n",
              "          if (!dataTable) return;\n",
              "\n",
              "          const docLinkHtml = 'Like what you see? Visit the ' +\n",
              "            '<a target=\"_blank\" href=https://colab.research.google.com/notebooks/data_table.ipynb>data table notebook</a>'\n",
              "            + ' to learn more about interactive tables.';\n",
              "          element.innerHTML = '';\n",
              "          dataTable['output_type'] = 'display_data';\n",
              "          await google.colab.output.renderOutput(dataTable, element);\n",
              "          const docLink = document.createElement('div');\n",
              "          docLink.innerHTML = docLinkHtml;\n",
              "          element.appendChild(docLink);\n",
              "        }\n",
              "      </script>\n",
              "    </div>\n",
              "  </div>\n",
              "  "
            ]
          },
          "metadata": {},
          "execution_count": 6
        }
      ]
    },
    {
      "cell_type": "code",
      "source": [
        "df_experiments_pct[(df_experiments_pct['WinR']>=25)&(df_experiments_pct['WinB']>=25)&((df_experiments_pct['MaxBetR']<=64)&(df_experiments_pct['MaxBetB']<=64))]"
      ],
      "metadata": {
        "colab": {
          "base_uri": "https://localhost:8080/",
          "height": 424
        },
        "id": "zai7VVQ2fNl7",
        "outputId": "622c657d-49d2-4eb0-f79c-74eaa3239eb8"
      },
      "execution_count": null,
      "outputs": [
        {
          "output_type": "execute_result",
          "data": {
            "text/plain": [
              "     Round_num WinR WinB MaxBetR MaxBetB\n",
              "236        236   25   26      16      64\n",
              "248        248   25   26      16      64\n",
              "315        315   25   25      32      32\n",
              "401        401   25   25      16      32\n",
              "530        530   25   25      16      32\n",
              "...        ...  ...  ...     ...     ...\n",
              "9720      9720   25   25      16       8\n",
              "9754      9754   25   25       8      16\n",
              "9803      9803   25   25       8      16\n",
              "9817      9817   25   25      16      32\n",
              "9826      9826   26   26      64      32\n",
              "\n",
              "[141 rows x 5 columns]"
            ],
            "text/html": [
              "\n",
              "  <div id=\"df-b861d50c-a2ad-4add-9c85-7bbe03eb510f\">\n",
              "    <div class=\"colab-df-container\">\n",
              "      <div>\n",
              "<style scoped>\n",
              "    .dataframe tbody tr th:only-of-type {\n",
              "        vertical-align: middle;\n",
              "    }\n",
              "\n",
              "    .dataframe tbody tr th {\n",
              "        vertical-align: top;\n",
              "    }\n",
              "\n",
              "    .dataframe thead th {\n",
              "        text-align: right;\n",
              "    }\n",
              "</style>\n",
              "<table border=\"1\" class=\"dataframe\">\n",
              "  <thead>\n",
              "    <tr style=\"text-align: right;\">\n",
              "      <th></th>\n",
              "      <th>Round_num</th>\n",
              "      <th>WinR</th>\n",
              "      <th>WinB</th>\n",
              "      <th>MaxBetR</th>\n",
              "      <th>MaxBetB</th>\n",
              "    </tr>\n",
              "  </thead>\n",
              "  <tbody>\n",
              "    <tr>\n",
              "      <th>236</th>\n",
              "      <td>236</td>\n",
              "      <td>25</td>\n",
              "      <td>26</td>\n",
              "      <td>16</td>\n",
              "      <td>64</td>\n",
              "    </tr>\n",
              "    <tr>\n",
              "      <th>248</th>\n",
              "      <td>248</td>\n",
              "      <td>25</td>\n",
              "      <td>26</td>\n",
              "      <td>16</td>\n",
              "      <td>64</td>\n",
              "    </tr>\n",
              "    <tr>\n",
              "      <th>315</th>\n",
              "      <td>315</td>\n",
              "      <td>25</td>\n",
              "      <td>25</td>\n",
              "      <td>32</td>\n",
              "      <td>32</td>\n",
              "    </tr>\n",
              "    <tr>\n",
              "      <th>401</th>\n",
              "      <td>401</td>\n",
              "      <td>25</td>\n",
              "      <td>25</td>\n",
              "      <td>16</td>\n",
              "      <td>32</td>\n",
              "    </tr>\n",
              "    <tr>\n",
              "      <th>530</th>\n",
              "      <td>530</td>\n",
              "      <td>25</td>\n",
              "      <td>25</td>\n",
              "      <td>16</td>\n",
              "      <td>32</td>\n",
              "    </tr>\n",
              "    <tr>\n",
              "      <th>...</th>\n",
              "      <td>...</td>\n",
              "      <td>...</td>\n",
              "      <td>...</td>\n",
              "      <td>...</td>\n",
              "      <td>...</td>\n",
              "    </tr>\n",
              "    <tr>\n",
              "      <th>9720</th>\n",
              "      <td>9720</td>\n",
              "      <td>25</td>\n",
              "      <td>25</td>\n",
              "      <td>16</td>\n",
              "      <td>8</td>\n",
              "    </tr>\n",
              "    <tr>\n",
              "      <th>9754</th>\n",
              "      <td>9754</td>\n",
              "      <td>25</td>\n",
              "      <td>25</td>\n",
              "      <td>8</td>\n",
              "      <td>16</td>\n",
              "    </tr>\n",
              "    <tr>\n",
              "      <th>9803</th>\n",
              "      <td>9803</td>\n",
              "      <td>25</td>\n",
              "      <td>25</td>\n",
              "      <td>8</td>\n",
              "      <td>16</td>\n",
              "    </tr>\n",
              "    <tr>\n",
              "      <th>9817</th>\n",
              "      <td>9817</td>\n",
              "      <td>25</td>\n",
              "      <td>25</td>\n",
              "      <td>16</td>\n",
              "      <td>32</td>\n",
              "    </tr>\n",
              "    <tr>\n",
              "      <th>9826</th>\n",
              "      <td>9826</td>\n",
              "      <td>26</td>\n",
              "      <td>26</td>\n",
              "      <td>64</td>\n",
              "      <td>32</td>\n",
              "    </tr>\n",
              "  </tbody>\n",
              "</table>\n",
              "<p>141 rows × 5 columns</p>\n",
              "</div>\n",
              "      <button class=\"colab-df-convert\" onclick=\"convertToInteractive('df-b861d50c-a2ad-4add-9c85-7bbe03eb510f')\"\n",
              "              title=\"Convert this dataframe to an interactive table.\"\n",
              "              style=\"display:none;\">\n",
              "        \n",
              "  <svg xmlns=\"http://www.w3.org/2000/svg\" height=\"24px\"viewBox=\"0 0 24 24\"\n",
              "       width=\"24px\">\n",
              "    <path d=\"M0 0h24v24H0V0z\" fill=\"none\"/>\n",
              "    <path d=\"M18.56 5.44l.94 2.06.94-2.06 2.06-.94-2.06-.94-.94-2.06-.94 2.06-2.06.94zm-11 1L8.5 8.5l.94-2.06 2.06-.94-2.06-.94L8.5 2.5l-.94 2.06-2.06.94zm10 10l.94 2.06.94-2.06 2.06-.94-2.06-.94-.94-2.06-.94 2.06-2.06.94z\"/><path d=\"M17.41 7.96l-1.37-1.37c-.4-.4-.92-.59-1.43-.59-.52 0-1.04.2-1.43.59L10.3 9.45l-7.72 7.72c-.78.78-.78 2.05 0 2.83L4 21.41c.39.39.9.59 1.41.59.51 0 1.02-.2 1.41-.59l7.78-7.78 2.81-2.81c.8-.78.8-2.07 0-2.86zM5.41 20L4 18.59l7.72-7.72 1.47 1.35L5.41 20z\"/>\n",
              "  </svg>\n",
              "      </button>\n",
              "      \n",
              "  <style>\n",
              "    .colab-df-container {\n",
              "      display:flex;\n",
              "      flex-wrap:wrap;\n",
              "      gap: 12px;\n",
              "    }\n",
              "\n",
              "    .colab-df-convert {\n",
              "      background-color: #E8F0FE;\n",
              "      border: none;\n",
              "      border-radius: 50%;\n",
              "      cursor: pointer;\n",
              "      display: none;\n",
              "      fill: #1967D2;\n",
              "      height: 32px;\n",
              "      padding: 0 0 0 0;\n",
              "      width: 32px;\n",
              "    }\n",
              "\n",
              "    .colab-df-convert:hover {\n",
              "      background-color: #E2EBFA;\n",
              "      box-shadow: 0px 1px 2px rgba(60, 64, 67, 0.3), 0px 1px 3px 1px rgba(60, 64, 67, 0.15);\n",
              "      fill: #174EA6;\n",
              "    }\n",
              "\n",
              "    [theme=dark] .colab-df-convert {\n",
              "      background-color: #3B4455;\n",
              "      fill: #D2E3FC;\n",
              "    }\n",
              "\n",
              "    [theme=dark] .colab-df-convert:hover {\n",
              "      background-color: #434B5C;\n",
              "      box-shadow: 0px 1px 3px 1px rgba(0, 0, 0, 0.15);\n",
              "      filter: drop-shadow(0px 1px 2px rgba(0, 0, 0, 0.3));\n",
              "      fill: #FFFFFF;\n",
              "    }\n",
              "  </style>\n",
              "\n",
              "      <script>\n",
              "        const buttonEl =\n",
              "          document.querySelector('#df-b861d50c-a2ad-4add-9c85-7bbe03eb510f button.colab-df-convert');\n",
              "        buttonEl.style.display =\n",
              "          google.colab.kernel.accessAllowed ? 'block' : 'none';\n",
              "\n",
              "        async function convertToInteractive(key) {\n",
              "          const element = document.querySelector('#df-b861d50c-a2ad-4add-9c85-7bbe03eb510f');\n",
              "          const dataTable =\n",
              "            await google.colab.kernel.invokeFunction('convertToInteractive',\n",
              "                                                     [key], {});\n",
              "          if (!dataTable) return;\n",
              "\n",
              "          const docLinkHtml = 'Like what you see? Visit the ' +\n",
              "            '<a target=\"_blank\" href=https://colab.research.google.com/notebooks/data_table.ipynb>data table notebook</a>'\n",
              "            + ' to learn more about interactive tables.';\n",
              "          element.innerHTML = '';\n",
              "          dataTable['output_type'] = 'display_data';\n",
              "          await google.colab.output.renderOutput(dataTable, element);\n",
              "          const docLink = document.createElement('div');\n",
              "          docLink.innerHTML = docLinkHtml;\n",
              "          element.appendChild(docLink);\n",
              "        }\n",
              "      </script>\n",
              "    </div>\n",
              "  </div>\n",
              "  "
            ]
          },
          "metadata": {},
          "execution_count": 7
        }
      ]
    }
  ]
}